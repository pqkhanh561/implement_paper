{
  "nbformat": 4,
  "nbformat_minor": 0,
  "metadata": {
    "colab": {
      "name": "VGG16.ipynb",
      "provenance": [],
      "collapsed_sections": []
    },
    "kernelspec": {
      "name": "python3",
      "display_name": "Python 3"
    },
    "accelerator": "GPU"
  },
  "cells": [
    {
      "cell_type": "markdown",
      "metadata": {
        "id": "TD2vbOiQtAKE",
        "colab_type": "text"
      },
      "source": [
        "# VGG16\n"
      ]
    },
    {
      "cell_type": "code",
      "metadata": {
        "id": "Aiw7tGuUs8aB",
        "colab_type": "code",
        "colab": {}
      },
      "source": [
        "import tensorflow as tf\n",
        "import numpy as np\n",
        "\n",
        "from tensorflow.keras.layers import Dense, Flatten, Conv2D, MaxPool2D, Input, Dropout\n",
        "from tensorflow.keras import Model, Sequential"
      ],
      "execution_count": null,
      "outputs": []
    },
    {
      "cell_type": "code",
      "metadata": {
        "id": "TXTRIpYL7trL",
        "colab_type": "code",
        "colab": {
          "base_uri": "https://localhost:8080/",
          "height": 33
        },
        "outputId": "604a84a0-b006-4572-bde3-c5966962116d"
      },
      "source": [
        "tf.executing_eagerly()"
      ],
      "execution_count": null,
      "outputs": [
        {
          "output_type": "execute_result",
          "data": {
            "text/plain": [
              "True"
            ]
          },
          "metadata": {
            "tags": []
          },
          "execution_count": 2
        }
      ]
    },
    {
      "cell_type": "code",
      "metadata": {
        "id": "juWnkaH5tF6C",
        "colab_type": "code",
        "colab": {
          "base_uri": "https://localhost:8080/",
          "height": 84
        },
        "outputId": "7ab88fc0-9d49-46fc-c438-fad4028018b9"
      },
      "source": [
        "#Download cifar100 dataset\n",
        "(x_train, y_train), (x_test, y_test) = tf.keras.datasets.cifar100.load_data(label_mode=\"fine\")\n",
        "print(\"Train feature shape\",x_train.shape)\n",
        "print(\"Train label shape\",y_train.shape)\n",
        "print(\"Test feature shape\",x_test.shape)\n",
        "print(\"Test label shape\",y_test.shape)\n",
        "\n",
        "x_train, x_test = x_train / 255.0, x_test / 255.0\n",
        "\n",
        "# Add a channels dimension\n",
        "x_train = x_train.astype(\"float32\")\n",
        "x_test = x_test.astype(\"float32\")"
      ],
      "execution_count": null,
      "outputs": [
        {
          "output_type": "stream",
          "text": [
            "Train feature shape (50000, 32, 32, 3)\n",
            "Train label shape (50000, 1)\n",
            "Test feature shape (10000, 32, 32, 3)\n",
            "Test label shape (10000, 1)\n"
          ],
          "name": "stdout"
        }
      ]
    },
    {
      "cell_type": "code",
      "metadata": {
        "id": "5Swe0yDqP2yq",
        "colab_type": "code",
        "colab": {}
      },
      "source": [
        "train_ds = tf.data.Dataset.from_tensor_slices(\n",
        "    (x_train, y_train)).shuffle(10000).batch(32)\n",
        "\n",
        "test_ds = tf.data.Dataset.from_tensor_slices((x_test, y_test)).batch(32)"
      ],
      "execution_count": null,
      "outputs": []
    },
    {
      "cell_type": "code",
      "metadata": {
        "id": "dboaufS6tqk_",
        "colab_type": "code",
        "colab": {}
      },
      "source": [
        "class MyModel(Model):\n",
        "  def __init__(self):\n",
        "    super(MyModel, self).__init__()\n",
        "    \n",
        "    self.conv_11 = Conv2D(64, 3, activation='relu', padding ='same')\n",
        "    self.conv_12 = Conv2D(64, 3, activation='relu', padding ='same')\n",
        "    self.maxpool_1 = MaxPool2D(pool_size=(2, 2), strides=(2,2))\n",
        "\n",
        "    self.conv_21 = Conv2D(128, 3, activation='relu', padding ='same')\n",
        "    self.conv_22 = Conv2D(128, 3, activation='relu', padding ='same')\n",
        "    self.maxpool_2 = MaxPool2D(pool_size=(2, 2), strides=(2,2))\n",
        "\n",
        "    self.conv_31 = Conv2D(256, 3, activation='relu', padding ='same')\n",
        "    self.conv_32 = Conv2D(256, 3, activation='relu', padding ='same')\n",
        "    self.conv_33 =  Conv2D(256, 3, activation='relu', padding ='same')\n",
        "    self.maxpool_3 = MaxPool2D(pool_size=(2, 2), strides=(2,2))\n",
        "\n",
        "    self.conv_41 = Conv2D(512, 3, activation='relu', padding ='same')\n",
        "    self.conv_42 = Conv2D(512, 3, activation='relu', padding ='same')\n",
        "    self.conv_43 =  Conv2D(512, 3, activation='relu', padding ='same')\n",
        "    self.maxpool_4 = MaxPool2D(pool_size=(2, 2), strides=(2,2))\n",
        "\n",
        "    self.conv_51 = Conv2D(512, 3, activation='relu', padding ='same')\n",
        "    self.conv_52 = Conv2D(512, 3, activation='relu', padding ='same')\n",
        "    self.conv_53 =  Conv2D(512, 3, activation='relu', padding ='same')\n",
        "    self.maxpool_5 = MaxPool2D(pool_size=(2, 2), strides=(2,2))\n",
        "    self.flatten = Flatten()\n",
        "\n",
        "    self.fc1 = Dense(4096, activation='relu')\n",
        "    self.dropout1 = Dropout(rate=0.5)\n",
        "    self.fc2 = Dense(4096, activation='relu')\n",
        "    self.dropout2 = Dropout(rate=0.5)\n",
        "    self.fc3 = Dense(1000, activation='relu')\n",
        "\n",
        "  def call(self, x):\n",
        "    #block 1\n",
        "    x = self.conv_11(x)\n",
        "    x = self.conv_12(x)\n",
        "    x = self.maxpool_1(x)\n",
        "\n",
        "    #block 2\n",
        "    x = self.conv_21(x)\n",
        "    x = self.conv_22(x)\n",
        "    x = self.maxpool_2(x)\n",
        "\n",
        "    #block 3\n",
        "    x = self.conv_31(x)\n",
        "    x = self.conv_32(x)\n",
        "    x = self.conv_33(x)\n",
        "    x = self.maxpool_3(x)\n",
        "\n",
        "    #block 4\n",
        "    x = self.conv_41(x)\n",
        "    x = self.conv_42(x)\n",
        "    x = self.conv_43(x)\n",
        "    x = self.maxpool_4(x)\n",
        "\n",
        "    #block 5\n",
        "    x = self.conv_51(x)\n",
        "    x = self.conv_52(x)\n",
        "    x = self.conv_53(x)\n",
        "    x = self.maxpool_5(x)\n",
        "    x = self.flatten(x)\n",
        "    x = self.fc1(x)\n",
        "    x = self.dropout1(x)\n",
        "    x = self.fc2(x)\n",
        "    x = self.dropout2(x)\n",
        "    x = self.fc3(x)\n",
        "    return x\n",
        "\n",
        "# Create an instance of the model\n",
        "model = MyModel()"
      ],
      "execution_count": null,
      "outputs": []
    },
    {
      "cell_type": "code",
      "metadata": {
        "id": "HsEBd4bxgMBu",
        "colab_type": "code",
        "colab": {
          "base_uri": "https://localhost:8080/",
          "height": 953
        },
        "outputId": "06fd9d4a-fa9b-47f5-d835-4f08ce2870a4"
      },
      "source": [
        "x = Input(shape=(32,32,3), batch_size=32)\n",
        "model(x)\n",
        "model.summary()"
      ],
      "execution_count": null,
      "outputs": [
        {
          "output_type": "stream",
          "text": [
            "Model: \"my_model\"\n",
            "_________________________________________________________________\n",
            "Layer (type)                 Output Shape              Param #   \n",
            "=================================================================\n",
            "conv2d (Conv2D)              (32, 32, 32, 64)          1792      \n",
            "_________________________________________________________________\n",
            "conv2d_1 (Conv2D)            (32, 32, 32, 64)          36928     \n",
            "_________________________________________________________________\n",
            "max_pooling2d (MaxPooling2D) (32, 16, 16, 64)          0         \n",
            "_________________________________________________________________\n",
            "conv2d_2 (Conv2D)            (32, 16, 16, 128)         73856     \n",
            "_________________________________________________________________\n",
            "conv2d_3 (Conv2D)            (32, 16, 16, 128)         147584    \n",
            "_________________________________________________________________\n",
            "max_pooling2d_1 (MaxPooling2 (32, 8, 8, 128)           0         \n",
            "_________________________________________________________________\n",
            "conv2d_4 (Conv2D)            (32, 8, 8, 256)           295168    \n",
            "_________________________________________________________________\n",
            "conv2d_5 (Conv2D)            (32, 8, 8, 256)           590080    \n",
            "_________________________________________________________________\n",
            "conv2d_6 (Conv2D)            (32, 8, 8, 256)           590080    \n",
            "_________________________________________________________________\n",
            "max_pooling2d_2 (MaxPooling2 (32, 4, 4, 256)           0         \n",
            "_________________________________________________________________\n",
            "conv2d_7 (Conv2D)            (32, 4, 4, 512)           1180160   \n",
            "_________________________________________________________________\n",
            "conv2d_8 (Conv2D)            (32, 4, 4, 512)           2359808   \n",
            "_________________________________________________________________\n",
            "conv2d_9 (Conv2D)            (32, 4, 4, 512)           2359808   \n",
            "_________________________________________________________________\n",
            "max_pooling2d_3 (MaxPooling2 (32, 2, 2, 512)           0         \n",
            "_________________________________________________________________\n",
            "conv2d_10 (Conv2D)           (32, 2, 2, 512)           2359808   \n",
            "_________________________________________________________________\n",
            "conv2d_11 (Conv2D)           (32, 2, 2, 512)           2359808   \n",
            "_________________________________________________________________\n",
            "conv2d_12 (Conv2D)           (32, 2, 2, 512)           2359808   \n",
            "_________________________________________________________________\n",
            "max_pooling2d_4 (MaxPooling2 (32, 1, 1, 512)           0         \n",
            "_________________________________________________________________\n",
            "flatten (Flatten)            (32, 512)                 0         \n",
            "_________________________________________________________________\n",
            "dense (Dense)                (32, 4096)                2101248   \n",
            "_________________________________________________________________\n",
            "dropout (Dropout)            (32, 4096)                0         \n",
            "_________________________________________________________________\n",
            "dense_1 (Dense)              (32, 4096)                16781312  \n",
            "_________________________________________________________________\n",
            "dropout_1 (Dropout)          (32, 4096)                0         \n",
            "_________________________________________________________________\n",
            "dense_2 (Dense)              (32, 1000)                4097000   \n",
            "=================================================================\n",
            "Total params: 37,694,248\n",
            "Trainable params: 37,694,248\n",
            "Non-trainable params: 0\n",
            "_________________________________________________________________\n"
          ],
          "name": "stdout"
        }
      ]
    },
    {
      "cell_type": "code",
      "metadata": {
        "id": "8-QUji7A7lto",
        "colab_type": "code",
        "colab": {}
      },
      "source": [
        "loss_object = tf.keras.losses.SparseCategoricalCrossentropy(from_logits=True)\n",
        "\n",
        "optimizer = tf.keras.optimizers.Adam()"
      ],
      "execution_count": null,
      "outputs": []
    },
    {
      "cell_type": "code",
      "metadata": {
        "id": "DVtgK-eA8ztI",
        "colab_type": "code",
        "colab": {}
      },
      "source": [
        "train_loss = tf.keras.metrics.Mean(name='train_loss')\n",
        "train_accuracy = tf.keras.metrics.SparseCategoricalAccuracy(name='train_accuracy')\n",
        "\n",
        "test_loss = tf.keras.metrics.Mean(name='test_loss')\n",
        "test_accuracy = tf.keras.metrics.SparseCategoricalAccuracy(name='test_accuracy')"
      ],
      "execution_count": null,
      "outputs": []
    },
    {
      "cell_type": "code",
      "metadata": {
        "id": "ilIDbSwo81S9",
        "colab_type": "code",
        "colab": {}
      },
      "source": [
        "@tf.function\n",
        "def train_step(images, labels):\n",
        "  with tf.GradientTape() as tape:\n",
        "    # training=True is only needed if there are layers with different\n",
        "    # behavior during training versus inference (e.g. Dropout).\n",
        "    predictions = model(images, training=True)\n",
        "    loss = loss_object(labels, predictions)\n",
        "  gradients = tape.gradient(loss, model.trainable_variables)\n",
        "  optimizer.apply_gradients(zip(gradients, model.trainable_variables))\n",
        "\n",
        "  train_loss(loss)\n",
        "  train_accuracy(labels, predictions)"
      ],
      "execution_count": null,
      "outputs": []
    },
    {
      "cell_type": "code",
      "metadata": {
        "id": "MpXOhl-t-BxV",
        "colab_type": "code",
        "colab": {}
      },
      "source": [
        "@tf.function\n",
        "def test_step(images, labels):\n",
        "  # training=False is only needed if there are layers with different\n",
        "  # behavior during training versus inference (e.g. Dropout).\n",
        "  predictions = model(images, training=False)\n",
        "  t_loss = loss_object(labels, predictions)\n",
        "\n",
        "  test_loss(t_loss)\n",
        "  test_accuracy(labels, predictions)"
      ],
      "execution_count": null,
      "outputs": []
    },
    {
      "cell_type": "code",
      "metadata": {
        "id": "EJaNotGw99iL",
        "colab_type": "code",
        "colab": {
          "base_uri": "https://localhost:8080/",
          "height": 50
        },
        "outputId": "3f54e9bf-ca8a-4593-c96f-d3bcf05b31dc"
      },
      "source": [
        "EPOCHS = 2\n",
        "\n",
        "for epoch in range(EPOCHS):\n",
        "  # Reset the metrics at the start of the next epoch\n",
        "  train_loss.reset_states()\n",
        "  train_accuracy.reset_states()\n",
        "  test_loss.reset_states()\n",
        "  test_accuracy.reset_states()\n",
        "\n",
        "  for images, labels in train_ds:\n",
        "    train_step(images, labels)\n",
        "\n",
        "  for test_images, test_labels in test_ds:\n",
        "    test_step(test_images, test_labels)\n",
        "\n",
        "  template = 'Epoch {}, Loss: {}, Accuracy: {}, Test Loss: {}, Test Accuracy: {}'\n",
        "  print(template.format(epoch + 1,\n",
        "                        train_loss.result(),\n",
        "                        train_accuracy.result() * 100,\n",
        "                        test_loss.result(),\n",
        "                        test_accuracy.result() * 100))"
      ],
      "execution_count": null,
      "outputs": [
        {
          "output_type": "stream",
          "text": [
            "Epoch 1, Loss: 6.362151145935059, Accuracy: 1.003999948501587, Test Loss: 6.32652473449707, Test Accuracy: 1.0\n",
            "Epoch 2, Loss: 6.31890869140625, Accuracy: 0.9779999852180481, Test Loss: 6.318000793457031, Test Accuracy: 1.0\n"
          ],
          "name": "stdout"
        }
      ]
    }
  ]
}